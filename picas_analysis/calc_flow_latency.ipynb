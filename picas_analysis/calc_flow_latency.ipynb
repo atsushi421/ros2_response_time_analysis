{
 "cells": [
  {
   "cell_type": "code",
   "execution_count": 1,
   "metadata": {},
   "outputs": [],
   "source": [
    "from typing import List\n",
    "import numpy as np\n",
    "\n",
    "\n",
    "def calc_flow_latencies(log_path: str, start_callback_name: str, finish_callback_name: str) -> List[float]:\n",
    "    with open(log_path, 'r') as f:\n",
    "        lines = f.readlines()\n",
    "\n",
    "    flow_start_ns_list = []\n",
    "    flow_finish_ns_list = []\n",
    "    for line in lines:\n",
    "        if f'[{start_callback_name}]: Flow start' in line:\n",
    "            flow_start_ns = int(line.split(\" \")[-1])\n",
    "            flow_start_ns_list.append(flow_start_ns)\n",
    "        if f'[{finish_callback_name}]: Flow finish' in line:\n",
    "            flow_finish_ns = int(line.split(\" \")[-1])\n",
    "            flow_finish_ns_list.append(flow_finish_ns)\n",
    "\n",
    "    if len(flow_start_ns_list) != len(flow_finish_ns_list):\n",
    "        raise NotImplementedError(\"Not same length!!!\")  # FIXME\n",
    "    \n",
    "    flow_latencies_ms = []\n",
    "    for flow_start_ns, flow_finish_ns in zip(flow_start_ns_list, flow_finish_ns_list):\n",
    "        flow_latency_ms = (flow_finish_ns - flow_start_ns) * 10 ** (-6)\n",
    "        flow_latencies_ms.append(flow_latency_ms)\n",
    "    \n",
    "    return np.array(flow_latencies_ms)"
   ]
  },
  {
   "cell_type": "code",
   "execution_count": 5,
   "metadata": {},
   "outputs": [],
   "source": [
    "from typing import Optional\n",
    "import matplotlib.pyplot as plt\n",
    "\n",
    "def plot_hist(latencies: List[float], title: Optional[str] = \"\"):\n",
    "    plt.hist(latencies, bins=30)\n",
    "    plt.title(title)\n",
    "    plt.xlabel(\"Message flow latency\")\n",
    "    plt.ylabel(\"Count\")\n",
    "    plt.show()"
   ]
  },
  {
   "cell_type": "code",
   "execution_count": 6,
   "metadata": {},
   "outputs": [],
   "source": [
    "log_path = \"/home/atsushi22/test_log.txt\"\n",
    "start_callback_name = \"Timer_callback\"\n",
    "finish_callback_name = \"Regular_callback3\""
   ]
  },
  {
   "cell_type": "code",
   "execution_count": 7,
   "metadata": {},
   "outputs": [
    {
     "data": {
      "image/png": "[encoded data removed]",
      "text/plain": [
       "<Figure size 640x480 with 1 Axes>"
      ]
     },
     "metadata": {},
     "output_type": "display_data"
    }
   ],
   "source": [
    "plot_hist(calc_flow_latencies(log_path, start_callback_name, finish_callback_name))"
   ]
  },
  {
   "cell_type": "code",
   "execution_count": null,
   "metadata": {},
   "outputs": [],
   "source": []
  }
 ],
 "metadata": {
  "kernelspec": {
   "display_name": "Python 3",
   "language": "python",
   "name": "python3"
  },
  "language_info": {
   "codemirror_mode": {
    "name": "ipython",
    "version": 3
   },
   "file_extension": ".py",
   "mimetype": "text/x-python",
   "name": "python",
   "nbconvert_exporter": "python",
   "pygments_lexer": "ipython3",
   "version": "3.10.6"
  },
  "orig_nbformat": 4
 },
 "nbformat": 4,
 "nbformat_minor": 2
}
